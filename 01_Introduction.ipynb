{
  "nbformat": 4,
  "nbformat_minor": 0,
  "metadata": {
    "colab": {
      "provenance": [],
      "authorship_tag": "ABX9TyNnJrWmzM54mtr0Dz6zQLpY",
      "include_colab_link": true
    },
    "kernelspec": {
      "name": "python3",
      "display_name": "Python 3"
    },
    "language_info": {
      "name": "python"
    }
  },
  "cells": [
    {
      "cell_type": "markdown",
      "metadata": {
        "id": "view-in-github",
        "colab_type": "text"
      },
      "source": [
        "<a href=\"https://colab.research.google.com/github/selvarajruban/ai-agents/blob/main/01_Introduction.ipynb\" target=\"_parent\"><img src=\"https://colab.research.google.com/assets/colab-badge.svg\" alt=\"Open In Colab\"/></a>"
      ]
    },
    {
      "cell_type": "markdown",
      "source": [
        "Useful reference links\n",
        "\n",
        "**Blogs:**\n",
        "\n",
        "https://aws.amazon.com/blogs/machine-learning/category/artificial-intelligence/generative-ai/\n",
        "https://arxiv.org/pdf/2501.09223\n",
        "\n",
        "https://www.linkedin.com/blog/engineering/generative-ai\n",
        "https://www.anthropic.com/research/building-effective-agents\n",
        "https://platform.openai.com/docs/guides/function-calling\n",
        "https://github.com/deepseek-ai/DeepSeek-V3?tab=readme-ov-file\n",
        "https://edwarddonner.com/2025/01/23/llm-workshop-hands-on-with-agents-resources/\n",
        "https://in.interviewkickstart.com/\n",
        "https://www.udemy.com/course/llm-engineering-master-ai-and-large-language-models/?couponCode=LETSLEARNNOW\n",
        "\n",
        "\n"
      ],
      "metadata": {
        "id": "yGKzlthc1hkz"
      }
    },
    {
      "cell_type": "markdown",
      "source": [
        "***Tools***\n",
        "\n",
        "Anaconda\n",
        "VSCode\n",
        "\n",
        "Groq (https://groq.com/)\n",
        "modal (https://modal.com/)\n",
        "\n",
        "*Agents Framework*\n",
        "PhiData\n",
        "LCEL (LangChain Expression Language)\n",
        "LangChain\n",
        "LangGraph\n",
        "LangServe\n",
        "LangFlow\n",
        "Agentic RAG\n",
        "CrewAI\n",
        "\n",
        "https://github.com/virattt/ai-hedge-fund\n",
        "https://github.com/krishnaik06/Roadmap-To-Learn-Agentic-AI/tree/main\n",
        "\n",
        "\n",
        "\n",
        "\n"
      ],
      "metadata": {
        "id": "J9o7QFFt3A3N"
      }
    },
    {
      "cell_type": "markdown",
      "source": [
        "LangChain -> BasicAgents -> End to End projects -> 4-6 sessions -> AI Agents, OpenAI, OpenLlama, Groq, Geminie, DeepSeek, HuggingFace\n",
        "LangGraph -> Agentic AI -> RAG, Types of RAG, LangSmith, LangServe\n",
        "Phi Data -> OpenAI, Google Gemnie\n",
        "AutoGen ->  (Microsoft)\n",
        "CrewAI ->\n",
        "LangFlow -> No Code platform for Agentic applicaitons.\n",
        "Cursor\n",
        "\n",
        "LlamaIndex\n",
        "Nvidia\n",
        "FastAPi\n",
        "VisionModels (gpt-4) Hugginface - VisionTransformation models\n",
        "PyDocs (pylib)\n",
        "Unstructured (pylib)\n"
      ],
      "metadata": {
        "id": "kvZlEOSRDbyH"
      }
    },
    {
      "cell_type": "code",
      "source": [
        "Projects\n",
        "\n",
        "Genaitiwari - huggingspace\n"
      ],
      "metadata": {
        "id": "Q_BSe4FQDdTD"
      },
      "execution_count": null,
      "outputs": []
    },
    {
      "cell_type": "code",
      "source": [],
      "metadata": {
        "id": "Rd1aJvefDeXW"
      },
      "execution_count": null,
      "outputs": []
    },
    {
      "cell_type": "code",
      "execution_count": null,
      "metadata": {
        "id": "3ViDtaiF1c7d"
      },
      "outputs": [],
      "source": []
    }
  ]
}